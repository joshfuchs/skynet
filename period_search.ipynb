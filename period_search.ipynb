{
 "cells": [
  {
   "cell_type": "code",
   "execution_count": 34,
   "id": "fab7487d",
   "metadata": {},
   "outputs": [],
   "source": [
    "import pandas as pd\n",
    "import matplotlib.pyplot as plt\n",
    "import numpy as np\n",
    "from astropy.timeseries import LombScargle\n",
    "import seaborn; seaborn.set()\n",
    "\n",
    "%matplotlib inline"
   ]
  },
  {
   "cell_type": "code",
   "execution_count": 2,
   "id": "9a8fc244",
   "metadata": {},
   "outputs": [
    {
     "data": {
      "text/html": [
       "<div>\n",
       "<style scoped>\n",
       "    .dataframe tbody tr th:only-of-type {\n",
       "        vertical-align: middle;\n",
       "    }\n",
       "\n",
       "    .dataframe tbody tr th {\n",
       "        vertical-align: top;\n",
       "    }\n",
       "\n",
       "    .dataframe thead th {\n",
       "        text-align: right;\n",
       "    }\n",
       "</style>\n",
       "<table border=\"1\" class=\"dataframe\">\n",
       "  <thead>\n",
       "    <tr style=\"text-align: right;\">\n",
       "      <th></th>\n",
       "      <th>Unnamed: 0</th>\n",
       "      <th>UTC</th>\n",
       "      <th>RA</th>\n",
       "      <th>DEC</th>\n",
       "      <th>AZ</th>\n",
       "      <th>EL</th>\n",
       "      <th>YY1</th>\n",
       "      <th>XX1</th>\n",
       "      <th>CAL</th>\n",
       "      <th>Sweep1</th>\n",
       "      <th>Sweep2</th>\n",
       "      <th>TimeDiff</th>\n",
       "      <th>XXmean</th>\n",
       "      <th>YYmean</th>\n",
       "      <th>XXnormalized</th>\n",
       "      <th>YYnormalized</th>\n",
       "    </tr>\n",
       "  </thead>\n",
       "  <tbody>\n",
       "    <tr>\n",
       "      <th>0</th>\n",
       "      <td>115</td>\n",
       "      <td>41253.440902</td>\n",
       "      <td>3.55531</td>\n",
       "      <td>54.5797</td>\n",
       "      <td>312.195</td>\n",
       "      <td>53.5884</td>\n",
       "      <td>43.5317</td>\n",
       "      <td>35.9720</td>\n",
       "      <td>0</td>\n",
       "      <td>0</td>\n",
       "      <td>0</td>\n",
       "      <td>0.020971</td>\n",
       "      <td>35.994220</td>\n",
       "      <td>43.565107</td>\n",
       "      <td>-0.000617</td>\n",
       "      <td>-0.000767</td>\n",
       "    </tr>\n",
       "    <tr>\n",
       "      <th>1</th>\n",
       "      <td>116</td>\n",
       "      <td>41253.461874</td>\n",
       "      <td>3.55532</td>\n",
       "      <td>54.5797</td>\n",
       "      <td>312.195</td>\n",
       "      <td>53.5884</td>\n",
       "      <td>43.5668</td>\n",
       "      <td>35.9613</td>\n",
       "      <td>0</td>\n",
       "      <td>0</td>\n",
       "      <td>0</td>\n",
       "      <td>0.020972</td>\n",
       "      <td>35.984153</td>\n",
       "      <td>43.545127</td>\n",
       "      <td>-0.000635</td>\n",
       "      <td>0.000498</td>\n",
       "    </tr>\n",
       "    <tr>\n",
       "      <th>2</th>\n",
       "      <td>117</td>\n",
       "      <td>41253.482845</td>\n",
       "      <td>3.55533</td>\n",
       "      <td>54.5797</td>\n",
       "      <td>312.195</td>\n",
       "      <td>53.5884</td>\n",
       "      <td>43.5558</td>\n",
       "      <td>35.9740</td>\n",
       "      <td>0</td>\n",
       "      <td>0</td>\n",
       "      <td>0</td>\n",
       "      <td>0.020971</td>\n",
       "      <td>35.987153</td>\n",
       "      <td>43.544880</td>\n",
       "      <td>-0.000366</td>\n",
       "      <td>0.000251</td>\n",
       "    </tr>\n",
       "    <tr>\n",
       "      <th>3</th>\n",
       "      <td>118</td>\n",
       "      <td>41253.503817</td>\n",
       "      <td>3.55533</td>\n",
       "      <td>54.5797</td>\n",
       "      <td>312.195</td>\n",
       "      <td>53.5884</td>\n",
       "      <td>43.5474</td>\n",
       "      <td>35.9066</td>\n",
       "      <td>0</td>\n",
       "      <td>0</td>\n",
       "      <td>0</td>\n",
       "      <td>0.020972</td>\n",
       "      <td>35.978453</td>\n",
       "      <td>43.542080</td>\n",
       "      <td>-0.001997</td>\n",
       "      <td>0.000122</td>\n",
       "    </tr>\n",
       "    <tr>\n",
       "      <th>4</th>\n",
       "      <td>119</td>\n",
       "      <td>41253.524788</td>\n",
       "      <td>3.55533</td>\n",
       "      <td>54.5797</td>\n",
       "      <td>312.195</td>\n",
       "      <td>53.5884</td>\n",
       "      <td>43.5604</td>\n",
       "      <td>35.9162</td>\n",
       "      <td>0</td>\n",
       "      <td>0</td>\n",
       "      <td>0</td>\n",
       "      <td>0.020971</td>\n",
       "      <td>35.970693</td>\n",
       "      <td>43.541600</td>\n",
       "      <td>-0.001515</td>\n",
       "      <td>0.000432</td>\n",
       "    </tr>\n",
       "  </tbody>\n",
       "</table>\n",
       "</div>"
      ],
      "text/plain": [
       "   Unnamed: 0           UTC       RA      DEC       AZ       EL      YY1  \\\n",
       "0         115  41253.440902  3.55531  54.5797  312.195  53.5884  43.5317   \n",
       "1         116  41253.461874  3.55532  54.5797  312.195  53.5884  43.5668   \n",
       "2         117  41253.482845  3.55533  54.5797  312.195  53.5884  43.5558   \n",
       "3         118  41253.503817  3.55533  54.5797  312.195  53.5884  43.5474   \n",
       "4         119  41253.524788  3.55533  54.5797  312.195  53.5884  43.5604   \n",
       "\n",
       "       XX1  CAL  Sweep1  Sweep2  TimeDiff     XXmean     YYmean  XXnormalized  \\\n",
       "0  35.9720    0       0       0  0.020971  35.994220  43.565107     -0.000617   \n",
       "1  35.9613    0       0       0  0.020972  35.984153  43.545127     -0.000635   \n",
       "2  35.9740    0       0       0  0.020971  35.987153  43.544880     -0.000366   \n",
       "3  35.9066    0       0       0  0.020972  35.978453  43.542080     -0.001997   \n",
       "4  35.9162    0       0       0  0.020971  35.970693  43.541600     -0.001515   \n",
       "\n",
       "   YYnormalized  \n",
       "0     -0.000767  \n",
       "1      0.000498  \n",
       "2      0.000251  \n",
       "3      0.000122  \n",
       "4      0.000432  "
      ]
     },
     "execution_count": 2,
     "metadata": {},
     "output_type": "execute_result"
    }
   ],
   "source": [
    "df = pd.read_csv('psr_b0329_54_cleaned.csv')\n",
    "df.head()"
   ]
  },
  {
   "cell_type": "code",
   "execution_count": 35,
   "id": "10235860",
   "metadata": {},
   "outputs": [
    {
     "data": {
      "text/plain": [
       "[<matplotlib.lines.Line2D at 0x7fbe610198b0>]"
      ]
     },
     "execution_count": 35,
     "metadata": {},
     "output_type": "execute_result"
    },
    {
     "data": {
      "image/png": "[encoded data removed]",
      "text/plain": [
       "<Figure size 432x288 with 1 Axes>"
      ]
     },
     "metadata": {
      "needs_background": "light"
     },
     "output_type": "display_data"
    }
   ],
   "source": [
    "plt.plot(df.UTC, df.XXnormalized)"
   ]
  },
  {
   "cell_type": "code",
   "execution_count": 4,
   "id": "09a9720b",
   "metadata": {},
   "outputs": [
    {
     "name": "stdout",
     "output_type": "stream",
     "text": [
      "known f (Hz):  1.400560224089636\n"
     ]
    }
   ],
   "source": [
    "# known period of B0329 = 0.714 s\n",
    "print('known f (Hz): ', 1/0.714)"
   ]
  },
  {
   "cell_type": "code",
   "execution_count": null,
   "id": "4dc5a1bd",
   "metadata": {},
   "outputs": [],
   "source": []
  },
  {
   "cell_type": "code",
   "execution_count": null,
   "id": "1fca8fe8",
   "metadata": {},
   "outputs": [],
   "source": []
  },
  {
   "cell_type": "code",
   "execution_count": 30,
   "id": "afbc5b7d",
   "metadata": {},
   "outputs": [],
   "source": [
    "frequency, power = LombScargle(df.UTC, df.XXnormalized, nterms = 2).autopower(minimum_frequency = 0.01,\n",
    "                                                                 maximum_frequency = 25,\n",
    "                                                                 samples_per_peak = 15)\n",
    "# adding the nterms = 2 significantly improves the ability to find the peak\n",
    "# the folded data look much better"
   ]
  },
  {
   "cell_type": "code",
   "execution_count": 36,
   "id": "ef10b08c",
   "metadata": {},
   "outputs": [
    {
     "data": {
      "text/plain": [
       "[<matplotlib.lines.Line2D at 0x7fbe76061520>]"
      ]
     },
     "execution_count": 36,
     "metadata": {},
     "output_type": "execute_result"
    },
    {
     "data": {
      "image/png": "[encoded data removed]",
      "text/plain": [
       "<Figure size 432x288 with 1 Axes>"
      ]
     },
     "metadata": {
      "needs_background": "light"
     },
     "output_type": "display_data"
    }
   ],
   "source": [
    "plt.plot(frequency, power)\n"
   ]
  },
  {
   "cell_type": "code",
   "execution_count": 32,
   "id": "fe1d11b4",
   "metadata": {},
   "outputs": [
    {
     "name": "stdout",
     "output_type": "stream",
     "text": [
      "1.3999918010849237\n"
     ]
    }
   ],
   "source": [
    "best_frequency = frequency[np.argmax(power)]\n",
    "print(best_frequency)"
   ]
  },
  {
   "cell_type": "code",
   "execution_count": 37,
   "id": "5ab5973a",
   "metadata": {},
   "outputs": [
    {
     "data": {
      "image/png": "[encoded data removed]",
      "text/plain": [
       "<Figure size 432x288 with 1 Axes>"
      ]
     },
     "metadata": {
      "needs_background": "light"
     },
     "output_type": "display_data"
    }
   ],
   "source": [
    "# fold the data \n",
    "phase = (df.UTC * best_frequency) % 1\n",
    "\n",
    "plt.plot(phase, df.XXnormalized, '.')\n",
    "plt.show()"
   ]
  },
  {
   "cell_type": "code",
   "execution_count": null,
   "id": "bfe778ef",
   "metadata": {},
   "outputs": [],
   "source": []
  }
 ],
 "metadata": {
  "kernelspec": {
   "display_name": "Python 3",
   "language": "python",
   "name": "python3"
  },
  "language_info": {
   "codemirror_mode": {
    "name": "ipython",
    "version": 3
   },
   "file_extension": ".py",
   "mimetype": "text/x-python",
   "name": "python",
   "nbconvert_exporter": "python",
   "pygments_lexer": "ipython3",
   "version": "3.8.8"
  }
 },
 "nbformat": 4,
 "nbformat_minor": 5
}
