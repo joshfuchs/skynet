{
 "cells": [
  {
   "cell_type": "code",
   "execution_count": 21,
   "id": "b019af48",
   "metadata": {},
   "outputs": [],
   "source": [
    "import pandas as pd\n",
    "import matplotlib.pyplot as plt\n",
    "import numpy as np\n",
    "\n",
    "%matplotlib inline"
   ]
  },
  {
   "cell_type": "code",
   "execution_count": 12,
   "id": "12856173",
   "metadata": {},
   "outputs": [],
   "source": [
    "df = pd.read_table('Skynet_59488_psr_b0329_54_62250_11093.A.cal.txt', \n",
    "                   comment = '#', delim_whitespace=True,\n",
    "                  names = ['UTC', 'RA', 'DEC', 'AZ', 'EL', 'YY1', 'XX1', 'CAL', 'Sweep1', 'Sweep2'])"
   ]
  },
  {
   "cell_type": "code",
   "execution_count": 11,
   "id": "0f8ad4d4",
   "metadata": {},
   "outputs": [
    {
     "data": {
      "text/html": [
       "<div>\n",
       "<style scoped>\n",
       "    .dataframe tbody tr th:only-of-type {\n",
       "        vertical-align: middle;\n",
       "    }\n",
       "\n",
       "    .dataframe tbody tr th {\n",
       "        vertical-align: top;\n",
       "    }\n",
       "\n",
       "    .dataframe thead th {\n",
       "        text-align: right;\n",
       "    }\n",
       "</style>\n",
       "<table border=\"1\" class=\"dataframe\">\n",
       "  <thead>\n",
       "    <tr style=\"text-align: right;\">\n",
       "      <th></th>\n",
       "      <th>UTC</th>\n",
       "      <th>RA</th>\n",
       "      <th>DEC</th>\n",
       "      <th>Az</th>\n",
       "      <th>EL</th>\n",
       "      <th>YY1</th>\n",
       "      <th>XX1</th>\n",
       "      <th>CAL</th>\n",
       "      <th>Sweep1</th>\n",
       "      <th>Sweep2</th>\n",
       "    </tr>\n",
       "  </thead>\n",
       "  <tbody>\n",
       "    <tr>\n",
       "      <th>0</th>\n",
       "      <td>41243.060000</td>\n",
       "      <td>3.55244</td>\n",
       "      <td>54.5791</td>\n",
       "      <td>312.1942</td>\n",
       "      <td>53.5886</td>\n",
       "      <td>57.4534</td>\n",
       "      <td>51.4550</td>\n",
       "      <td>-1</td>\n",
       "      <td>0</td>\n",
       "      <td>0</td>\n",
       "    </tr>\n",
       "    <tr>\n",
       "      <th>1</th>\n",
       "      <td>41243.160663</td>\n",
       "      <td>3.55247</td>\n",
       "      <td>54.5794</td>\n",
       "      <td>312.1946</td>\n",
       "      <td>53.5886</td>\n",
       "      <td>53.5906</td>\n",
       "      <td>45.0476</td>\n",
       "      <td>1</td>\n",
       "      <td>0</td>\n",
       "      <td>0</td>\n",
       "    </tr>\n",
       "    <tr>\n",
       "      <th>2</th>\n",
       "      <td>41243.261326</td>\n",
       "      <td>3.55250</td>\n",
       "      <td>54.5796</td>\n",
       "      <td>312.1950</td>\n",
       "      <td>53.5886</td>\n",
       "      <td>53.5869</td>\n",
       "      <td>45.0506</td>\n",
       "      <td>1</td>\n",
       "      <td>0</td>\n",
       "      <td>0</td>\n",
       "    </tr>\n",
       "    <tr>\n",
       "      <th>3</th>\n",
       "      <td>41243.361990</td>\n",
       "      <td>3.55253</td>\n",
       "      <td>54.5798</td>\n",
       "      <td>312.1954</td>\n",
       "      <td>53.5886</td>\n",
       "      <td>53.5654</td>\n",
       "      <td>45.0762</td>\n",
       "      <td>1</td>\n",
       "      <td>0</td>\n",
       "      <td>0</td>\n",
       "    </tr>\n",
       "    <tr>\n",
       "      <th>4</th>\n",
       "      <td>41243.462653</td>\n",
       "      <td>3.55256</td>\n",
       "      <td>54.5796</td>\n",
       "      <td>312.1950</td>\n",
       "      <td>53.5886</td>\n",
       "      <td>53.5295</td>\n",
       "      <td>45.0961</td>\n",
       "      <td>1</td>\n",
       "      <td>0</td>\n",
       "      <td>0</td>\n",
       "    </tr>\n",
       "  </tbody>\n",
       "</table>\n",
       "</div>"
      ],
      "text/plain": [
       "            UTC       RA      DEC        Az       EL      YY1      XX1  CAL  \\\n",
       "0  41243.060000  3.55244  54.5791  312.1942  53.5886  57.4534  51.4550   -1   \n",
       "1  41243.160663  3.55247  54.5794  312.1946  53.5886  53.5906  45.0476    1   \n",
       "2  41243.261326  3.55250  54.5796  312.1950  53.5886  53.5869  45.0506    1   \n",
       "3  41243.361990  3.55253  54.5798  312.1954  53.5886  53.5654  45.0762    1   \n",
       "4  41243.462653  3.55256  54.5796  312.1950  53.5886  53.5295  45.0961    1   \n",
       "\n",
       "   Sweep1  Sweep2  \n",
       "0       0       0  \n",
       "1       0       0  \n",
       "2       0       0  \n",
       "3       0       0  \n",
       "4       0       0  "
      ]
     },
     "execution_count": 11,
     "metadata": {},
     "output_type": "execute_result"
    }
   ],
   "source": [
    "df.head()"
   ]
  },
  {
   "cell_type": "code",
   "execution_count": 16,
   "id": "b0727768",
   "metadata": {},
   "outputs": [
    {
     "data": {
      "text/plain": [
       "[<matplotlib.lines.Line2D at 0x7fd2a8095cd0>]"
      ]
     },
     "execution_count": 16,
     "metadata": {},
     "output_type": "execute_result"
    },
    {
     "data": {
      "image/png": "[encoded data removed]",
      "text/plain": [
       "<Figure size 432x288 with 1 Axes>"
      ]
     },
     "metadata": {
      "needs_background": "light"
     },
     "output_type": "display_data"
    }
   ],
   "source": [
    "plt.plot(df.UTC,df.YY1)\n",
    "plt.plot(df.UTC,df.XX1)"
   ]
  },
  {
   "cell_type": "code",
   "execution_count": 19,
   "id": "f1646846",
   "metadata": {},
   "outputs": [
    {
     "data": {
      "text/html": [
       "<div>\n",
       "<style scoped>\n",
       "    .dataframe tbody tr th:only-of-type {\n",
       "        vertical-align: middle;\n",
       "    }\n",
       "\n",
       "    .dataframe tbody tr th {\n",
       "        vertical-align: top;\n",
       "    }\n",
       "\n",
       "    .dataframe thead th {\n",
       "        text-align: right;\n",
       "    }\n",
       "</style>\n",
       "<table border=\"1\" class=\"dataframe\">\n",
       "  <thead>\n",
       "    <tr style=\"text-align: right;\">\n",
       "      <th></th>\n",
       "      <th>UTC</th>\n",
       "      <th>RA</th>\n",
       "      <th>DEC</th>\n",
       "      <th>AZ</th>\n",
       "      <th>EL</th>\n",
       "      <th>YY1</th>\n",
       "      <th>XX1</th>\n",
       "      <th>CAL</th>\n",
       "      <th>Sweep1</th>\n",
       "      <th>Sweep2</th>\n",
       "    </tr>\n",
       "  </thead>\n",
       "  <tbody>\n",
       "    <tr>\n",
       "      <th>51</th>\n",
       "      <td>41248.193828</td>\n",
       "      <td>3.55385</td>\n",
       "      <td>54.5796</td>\n",
       "      <td>312.195</td>\n",
       "      <td>53.5884</td>\n",
       "      <td>43.5044</td>\n",
       "      <td>35.8738</td>\n",
       "      <td>0</td>\n",
       "      <td>0</td>\n",
       "      <td>0</td>\n",
       "    </tr>\n",
       "    <tr>\n",
       "      <th>52</th>\n",
       "      <td>41248.294492</td>\n",
       "      <td>3.55388</td>\n",
       "      <td>54.5796</td>\n",
       "      <td>312.195</td>\n",
       "      <td>53.5884</td>\n",
       "      <td>43.4645</td>\n",
       "      <td>35.8895</td>\n",
       "      <td>0</td>\n",
       "      <td>0</td>\n",
       "      <td>0</td>\n",
       "    </tr>\n",
       "    <tr>\n",
       "      <th>53</th>\n",
       "      <td>41248.395155</td>\n",
       "      <td>3.55391</td>\n",
       "      <td>54.5796</td>\n",
       "      <td>312.195</td>\n",
       "      <td>53.5884</td>\n",
       "      <td>43.4729</td>\n",
       "      <td>35.8729</td>\n",
       "      <td>0</td>\n",
       "      <td>0</td>\n",
       "      <td>0</td>\n",
       "    </tr>\n",
       "    <tr>\n",
       "      <th>54</th>\n",
       "      <td>41248.495818</td>\n",
       "      <td>3.55393</td>\n",
       "      <td>54.5796</td>\n",
       "      <td>312.195</td>\n",
       "      <td>53.5884</td>\n",
       "      <td>43.4868</td>\n",
       "      <td>35.8671</td>\n",
       "      <td>0</td>\n",
       "      <td>0</td>\n",
       "      <td>0</td>\n",
       "    </tr>\n",
       "    <tr>\n",
       "      <th>55</th>\n",
       "      <td>41248.596481</td>\n",
       "      <td>3.55396</td>\n",
       "      <td>54.5796</td>\n",
       "      <td>312.195</td>\n",
       "      <td>53.5884</td>\n",
       "      <td>43.5426</td>\n",
       "      <td>35.8773</td>\n",
       "      <td>0</td>\n",
       "      <td>0</td>\n",
       "      <td>0</td>\n",
       "    </tr>\n",
       "  </tbody>\n",
       "</table>\n",
       "</div>"
      ],
      "text/plain": [
       "             UTC       RA      DEC       AZ       EL      YY1      XX1  CAL  \\\n",
       "51  41248.193828  3.55385  54.5796  312.195  53.5884  43.5044  35.8738    0   \n",
       "52  41248.294492  3.55388  54.5796  312.195  53.5884  43.4645  35.8895    0   \n",
       "53  41248.395155  3.55391  54.5796  312.195  53.5884  43.4729  35.8729    0   \n",
       "54  41248.495818  3.55393  54.5796  312.195  53.5884  43.4868  35.8671    0   \n",
       "55  41248.596481  3.55396  54.5796  312.195  53.5884  43.5426  35.8773    0   \n",
       "\n",
       "    Sweep1  Sweep2  \n",
       "51       0       0  \n",
       "52       0       0  \n",
       "53       0       0  \n",
       "54       0       0  \n",
       "55       0       0  "
      ]
     },
     "execution_count": 19,
     "metadata": {},
     "output_type": "execute_result"
    }
   ],
   "source": [
    "# remove rows that have CAL == 1 or -1\n",
    "df.drop(df[df['CAL'] == -1].index, inplace = True)\n",
    "df.drop(df[df['CAL'] == 1].index, inplace = True)\n",
    "df.head()"
   ]
  },
  {
   "cell_type": "code",
   "execution_count": 20,
   "id": "1390a6fb",
   "metadata": {},
   "outputs": [
    {
     "data": {
      "text/plain": [
       "[<matplotlib.lines.Line2D at 0x7fd2b8ef9eb0>]"
      ]
     },
     "execution_count": 20,
     "metadata": {},
     "output_type": "execute_result"
    },
    {
     "data": {
      "image/png": "[encoded data removed]",
      "text/plain": [
       "<Figure size 432x288 with 1 Axes>"
      ]
     },
     "metadata": {
      "needs_background": "light"
     },
     "output_type": "display_data"
    }
   ],
   "source": [
    "plt.plot(df.UTC,df.YY1)\n",
    "plt.plot(df.UTC,df.XX1)"
   ]
  },
  {
   "cell_type": "code",
   "execution_count": 42,
   "id": "8e42aa16",
   "metadata": {},
   "outputs": [],
   "source": [
    "#Remove all data that is collected more than 3ms apart\n",
    "\n",
    "# calculate the integration time for each row\n",
    "df['TimeDiff'] = df.diff(periods=1, axis=0).UTC\n",
    "\n",
    "# drop rows that have TimeDiff > 0.05 or a NaN\n",
    "df.drop(df[df['TimeDiff'] > 0.05].index, inplace = True)\n",
    "df.dropna(inplace = True)"
   ]
  },
  {
   "cell_type": "code",
   "execution_count": 43,
   "id": "eeb844cd",
   "metadata": {},
   "outputs": [
    {
     "data": {
      "text/html": [
       "<div>\n",
       "<style scoped>\n",
       "    .dataframe tbody tr th:only-of-type {\n",
       "        vertical-align: middle;\n",
       "    }\n",
       "\n",
       "    .dataframe tbody tr th {\n",
       "        vertical-align: top;\n",
       "    }\n",
       "\n",
       "    .dataframe thead th {\n",
       "        text-align: right;\n",
       "    }\n",
       "</style>\n",
       "<table border=\"1\" class=\"dataframe\">\n",
       "  <thead>\n",
       "    <tr style=\"text-align: right;\">\n",
       "      <th></th>\n",
       "      <th>UTC</th>\n",
       "      <th>RA</th>\n",
       "      <th>DEC</th>\n",
       "      <th>AZ</th>\n",
       "      <th>EL</th>\n",
       "      <th>YY1</th>\n",
       "      <th>XX1</th>\n",
       "      <th>CAL</th>\n",
       "      <th>Sweep1</th>\n",
       "      <th>Sweep2</th>\n",
       "      <th>TimeDiff</th>\n",
       "    </tr>\n",
       "  </thead>\n",
       "  <tbody>\n",
       "    <tr>\n",
       "      <th>102</th>\n",
       "      <td>41253.168273</td>\n",
       "      <td>3.55524</td>\n",
       "      <td>54.5797</td>\n",
       "      <td>312.195</td>\n",
       "      <td>53.5884</td>\n",
       "      <td>43.5595</td>\n",
       "      <td>35.9290</td>\n",
       "      <td>0</td>\n",
       "      <td>0</td>\n",
       "      <td>0</td>\n",
       "      <td>0.020972</td>\n",
       "    </tr>\n",
       "    <tr>\n",
       "      <th>103</th>\n",
       "      <td>41253.189244</td>\n",
       "      <td>3.55525</td>\n",
       "      <td>54.5797</td>\n",
       "      <td>312.195</td>\n",
       "      <td>53.5884</td>\n",
       "      <td>43.5894</td>\n",
       "      <td>36.0371</td>\n",
       "      <td>0</td>\n",
       "      <td>0</td>\n",
       "      <td>0</td>\n",
       "      <td>0.020971</td>\n",
       "    </tr>\n",
       "    <tr>\n",
       "      <th>104</th>\n",
       "      <td>41253.210216</td>\n",
       "      <td>3.55526</td>\n",
       "      <td>54.5797</td>\n",
       "      <td>312.195</td>\n",
       "      <td>53.5884</td>\n",
       "      <td>43.5676</td>\n",
       "      <td>36.0326</td>\n",
       "      <td>0</td>\n",
       "      <td>0</td>\n",
       "      <td>0</td>\n",
       "      <td>0.020972</td>\n",
       "    </tr>\n",
       "    <tr>\n",
       "      <th>105</th>\n",
       "      <td>41253.231187</td>\n",
       "      <td>3.55526</td>\n",
       "      <td>54.5797</td>\n",
       "      <td>312.195</td>\n",
       "      <td>53.5884</td>\n",
       "      <td>43.5869</td>\n",
       "      <td>35.9972</td>\n",
       "      <td>0</td>\n",
       "      <td>0</td>\n",
       "      <td>0</td>\n",
       "      <td>0.020971</td>\n",
       "    </tr>\n",
       "    <tr>\n",
       "      <th>106</th>\n",
       "      <td>41253.252159</td>\n",
       "      <td>3.55526</td>\n",
       "      <td>54.5797</td>\n",
       "      <td>312.195</td>\n",
       "      <td>53.5884</td>\n",
       "      <td>43.4983</td>\n",
       "      <td>35.9793</td>\n",
       "      <td>0</td>\n",
       "      <td>0</td>\n",
       "      <td>0</td>\n",
       "      <td>0.020972</td>\n",
       "    </tr>\n",
       "  </tbody>\n",
       "</table>\n",
       "</div>"
      ],
      "text/plain": [
       "              UTC       RA      DEC       AZ       EL      YY1      XX1  CAL  \\\n",
       "102  41253.168273  3.55524  54.5797  312.195  53.5884  43.5595  35.9290    0   \n",
       "103  41253.189244  3.55525  54.5797  312.195  53.5884  43.5894  36.0371    0   \n",
       "104  41253.210216  3.55526  54.5797  312.195  53.5884  43.5676  36.0326    0   \n",
       "105  41253.231187  3.55526  54.5797  312.195  53.5884  43.5869  35.9972    0   \n",
       "106  41253.252159  3.55526  54.5797  312.195  53.5884  43.4983  35.9793    0   \n",
       "\n",
       "     Sweep1  Sweep2  TimeDiff  \n",
       "102       0       0  0.020972  \n",
       "103       0       0  0.020971  \n",
       "104       0       0  0.020972  \n",
       "105       0       0  0.020971  \n",
       "106       0       0  0.020972  "
      ]
     },
     "execution_count": 43,
     "metadata": {},
     "output_type": "execute_result"
    }
   ],
   "source": [
    "df.head()"
   ]
  },
  {
   "cell_type": "code",
   "execution_count": 44,
   "id": "3d0a089b",
   "metadata": {},
   "outputs": [
    {
     "data": {
      "text/plain": [
       "(0.0, 0.2)"
      ]
     },
     "execution_count": 44,
     "metadata": {},
     "output_type": "execute_result"
    },
    {
     "data": {
      "image/png": "[encoded data removed]",
      "text/plain": [
       "<Figure size 432x288 with 1 Axes>"
      ]
     },
     "metadata": {
      "needs_background": "light"
     },
     "output_type": "display_data"
    }
   ],
   "source": [
    "plt.plot(df.UTC, df.TimeDiff,'+')\n",
    "plt.ylim(0,0.2)"
   ]
  },
  {
   "cell_type": "code",
   "execution_count": 45,
   "id": "6cf9b255",
   "metadata": {},
   "outputs": [
    {
     "data": {
      "text/plain": [
       "[<matplotlib.lines.Line2D at 0x7fd2e9241250>]"
      ]
     },
     "execution_count": 45,
     "metadata": {},
     "output_type": "execute_result"
    },
    {
     "data": {
      "image/png": "[encoded data removed]",
      "text/plain": [
       "<Figure size 432x288 with 1 Axes>"
      ]
     },
     "metadata": {
      "needs_background": "light"
     },
     "output_type": "display_data"
    }
   ],
   "source": [
    "plt.plot(df.UTC,df.YY1)\n",
    "plt.plot(df.UTC,df.XX1)"
   ]
  },
  {
   "cell_type": "code",
   "execution_count": 56,
   "id": "790653fe",
   "metadata": {},
   "outputs": [],
   "source": [
    "# Perform a rolling mean to get a baselin to subtract off\n",
    "\n",
    "df['XXmean'] = df.XX1.rolling(15).mean()\n",
    "df['YYmean'] = df.YY1.rolling(15).mean()"
   ]
  },
  {
   "cell_type": "code",
   "execution_count": 57,
   "id": "e523df73",
   "metadata": {},
   "outputs": [
    {
     "data": {
      "text/plain": [
       "[<matplotlib.lines.Line2D at 0x7fd2e94f5460>]"
      ]
     },
     "execution_count": 57,
     "metadata": {},
     "output_type": "execute_result"
    },
    {
     "data": {
      "image/png": "[encoded data removed]",
      "text/plain": [
       "<Figure size 432x288 with 1 Axes>"
      ]
     },
     "metadata": {
      "needs_background": "light"
     },
     "output_type": "display_data"
    }
   ],
   "source": [
    "plt.plot(df.UTC,df.YY1)\n",
    "plt.plot(df.UTC,df.XX1)\n",
    "plt.plot(df.UTC,df.XXmean)\n",
    "plt.plot(df.UTC,df.YYmean)"
   ]
  },
  {
   "cell_type": "code",
   "execution_count": 58,
   "id": "b0f4a779",
   "metadata": {},
   "outputs": [
    {
     "data": {
      "text/html": [
       "<div>\n",
       "<style scoped>\n",
       "    .dataframe tbody tr th:only-of-type {\n",
       "        vertical-align: middle;\n",
       "    }\n",
       "\n",
       "    .dataframe tbody tr th {\n",
       "        vertical-align: top;\n",
       "    }\n",
       "\n",
       "    .dataframe thead th {\n",
       "        text-align: right;\n",
       "    }\n",
       "</style>\n",
       "<table border=\"1\" class=\"dataframe\">\n",
       "  <thead>\n",
       "    <tr style=\"text-align: right;\">\n",
       "      <th></th>\n",
       "      <th>UTC</th>\n",
       "      <th>RA</th>\n",
       "      <th>DEC</th>\n",
       "      <th>AZ</th>\n",
       "      <th>EL</th>\n",
       "      <th>YY1</th>\n",
       "      <th>XX1</th>\n",
       "      <th>CAL</th>\n",
       "      <th>Sweep1</th>\n",
       "      <th>Sweep2</th>\n",
       "      <th>TimeDiff</th>\n",
       "      <th>XXmean</th>\n",
       "      <th>YYmean</th>\n",
       "    </tr>\n",
       "  </thead>\n",
       "  <tbody>\n",
       "    <tr>\n",
       "      <th>102</th>\n",
       "      <td>41253.168273</td>\n",
       "      <td>3.55524</td>\n",
       "      <td>54.5797</td>\n",
       "      <td>312.195</td>\n",
       "      <td>53.5884</td>\n",
       "      <td>43.5595</td>\n",
       "      <td>35.9290</td>\n",
       "      <td>0</td>\n",
       "      <td>0</td>\n",
       "      <td>0</td>\n",
       "      <td>0.020972</td>\n",
       "      <td>NaN</td>\n",
       "      <td>NaN</td>\n",
       "    </tr>\n",
       "    <tr>\n",
       "      <th>103</th>\n",
       "      <td>41253.189244</td>\n",
       "      <td>3.55525</td>\n",
       "      <td>54.5797</td>\n",
       "      <td>312.195</td>\n",
       "      <td>53.5884</td>\n",
       "      <td>43.5894</td>\n",
       "      <td>36.0371</td>\n",
       "      <td>0</td>\n",
       "      <td>0</td>\n",
       "      <td>0</td>\n",
       "      <td>0.020971</td>\n",
       "      <td>NaN</td>\n",
       "      <td>NaN</td>\n",
       "    </tr>\n",
       "    <tr>\n",
       "      <th>104</th>\n",
       "      <td>41253.210216</td>\n",
       "      <td>3.55526</td>\n",
       "      <td>54.5797</td>\n",
       "      <td>312.195</td>\n",
       "      <td>53.5884</td>\n",
       "      <td>43.5676</td>\n",
       "      <td>36.0326</td>\n",
       "      <td>0</td>\n",
       "      <td>0</td>\n",
       "      <td>0</td>\n",
       "      <td>0.020972</td>\n",
       "      <td>NaN</td>\n",
       "      <td>NaN</td>\n",
       "    </tr>\n",
       "    <tr>\n",
       "      <th>105</th>\n",
       "      <td>41253.231187</td>\n",
       "      <td>3.55526</td>\n",
       "      <td>54.5797</td>\n",
       "      <td>312.195</td>\n",
       "      <td>53.5884</td>\n",
       "      <td>43.5869</td>\n",
       "      <td>35.9972</td>\n",
       "      <td>0</td>\n",
       "      <td>0</td>\n",
       "      <td>0</td>\n",
       "      <td>0.020971</td>\n",
       "      <td>NaN</td>\n",
       "      <td>NaN</td>\n",
       "    </tr>\n",
       "    <tr>\n",
       "      <th>106</th>\n",
       "      <td>41253.252159</td>\n",
       "      <td>3.55526</td>\n",
       "      <td>54.5797</td>\n",
       "      <td>312.195</td>\n",
       "      <td>53.5884</td>\n",
       "      <td>43.4983</td>\n",
       "      <td>35.9793</td>\n",
       "      <td>0</td>\n",
       "      <td>0</td>\n",
       "      <td>0</td>\n",
       "      <td>0.020972</td>\n",
       "      <td>NaN</td>\n",
       "      <td>NaN</td>\n",
       "    </tr>\n",
       "  </tbody>\n",
       "</table>\n",
       "</div>"
      ],
      "text/plain": [
       "              UTC       RA      DEC       AZ       EL      YY1      XX1  CAL  \\\n",
       "102  41253.168273  3.55524  54.5797  312.195  53.5884  43.5595  35.9290    0   \n",
       "103  41253.189244  3.55525  54.5797  312.195  53.5884  43.5894  36.0371    0   \n",
       "104  41253.210216  3.55526  54.5797  312.195  53.5884  43.5676  36.0326    0   \n",
       "105  41253.231187  3.55526  54.5797  312.195  53.5884  43.5869  35.9972    0   \n",
       "106  41253.252159  3.55526  54.5797  312.195  53.5884  43.4983  35.9793    0   \n",
       "\n",
       "     Sweep1  Sweep2  TimeDiff  XXmean  YYmean  \n",
       "102       0       0  0.020972     NaN     NaN  \n",
       "103       0       0  0.020971     NaN     NaN  \n",
       "104       0       0  0.020972     NaN     NaN  \n",
       "105       0       0  0.020971     NaN     NaN  \n",
       "106       0       0  0.020972     NaN     NaN  "
      ]
     },
     "execution_count": 58,
     "metadata": {},
     "output_type": "execute_result"
    }
   ],
   "source": [
    "df.head()"
   ]
  },
  {
   "cell_type": "code",
   "execution_count": 59,
   "id": "38e13130",
   "metadata": {},
   "outputs": [],
   "source": [
    "# drop Nans from rolling average\n",
    "df.dropna(inplace = True)"
   ]
  },
  {
   "cell_type": "code",
   "execution_count": 60,
   "id": "ed8b8ddb",
   "metadata": {},
   "outputs": [
    {
     "data": {
      "text/html": [
       "<div>\n",
       "<style scoped>\n",
       "    .dataframe tbody tr th:only-of-type {\n",
       "        vertical-align: middle;\n",
       "    }\n",
       "\n",
       "    .dataframe tbody tr th {\n",
       "        vertical-align: top;\n",
       "    }\n",
       "\n",
       "    .dataframe thead th {\n",
       "        text-align: right;\n",
       "    }\n",
       "</style>\n",
       "<table border=\"1\" class=\"dataframe\">\n",
       "  <thead>\n",
       "    <tr style=\"text-align: right;\">\n",
       "      <th></th>\n",
       "      <th>UTC</th>\n",
       "      <th>RA</th>\n",
       "      <th>DEC</th>\n",
       "      <th>AZ</th>\n",
       "      <th>EL</th>\n",
       "      <th>YY1</th>\n",
       "      <th>XX1</th>\n",
       "      <th>CAL</th>\n",
       "      <th>Sweep1</th>\n",
       "      <th>Sweep2</th>\n",
       "      <th>TimeDiff</th>\n",
       "      <th>XXmean</th>\n",
       "      <th>YYmean</th>\n",
       "    </tr>\n",
       "  </thead>\n",
       "  <tbody>\n",
       "    <tr>\n",
       "      <th>116</th>\n",
       "      <td>41253.461874</td>\n",
       "      <td>3.55532</td>\n",
       "      <td>54.5797</td>\n",
       "      <td>312.195</td>\n",
       "      <td>53.5884</td>\n",
       "      <td>43.5668</td>\n",
       "      <td>35.9613</td>\n",
       "      <td>0</td>\n",
       "      <td>0</td>\n",
       "      <td>0</td>\n",
       "      <td>0.020972</td>\n",
       "      <td>35.984153</td>\n",
       "      <td>43.545127</td>\n",
       "    </tr>\n",
       "    <tr>\n",
       "      <th>117</th>\n",
       "      <td>41253.482845</td>\n",
       "      <td>3.55533</td>\n",
       "      <td>54.5797</td>\n",
       "      <td>312.195</td>\n",
       "      <td>53.5884</td>\n",
       "      <td>43.5558</td>\n",
       "      <td>35.9740</td>\n",
       "      <td>0</td>\n",
       "      <td>0</td>\n",
       "      <td>0</td>\n",
       "      <td>0.020971</td>\n",
       "      <td>35.987153</td>\n",
       "      <td>43.544880</td>\n",
       "    </tr>\n",
       "    <tr>\n",
       "      <th>118</th>\n",
       "      <td>41253.503817</td>\n",
       "      <td>3.55533</td>\n",
       "      <td>54.5797</td>\n",
       "      <td>312.195</td>\n",
       "      <td>53.5884</td>\n",
       "      <td>43.5474</td>\n",
       "      <td>35.9066</td>\n",
       "      <td>0</td>\n",
       "      <td>0</td>\n",
       "      <td>0</td>\n",
       "      <td>0.020972</td>\n",
       "      <td>35.978453</td>\n",
       "      <td>43.542080</td>\n",
       "    </tr>\n",
       "    <tr>\n",
       "      <th>119</th>\n",
       "      <td>41253.524788</td>\n",
       "      <td>3.55533</td>\n",
       "      <td>54.5797</td>\n",
       "      <td>312.195</td>\n",
       "      <td>53.5884</td>\n",
       "      <td>43.5604</td>\n",
       "      <td>35.9162</td>\n",
       "      <td>0</td>\n",
       "      <td>0</td>\n",
       "      <td>0</td>\n",
       "      <td>0.020971</td>\n",
       "      <td>35.970693</td>\n",
       "      <td>43.541600</td>\n",
       "    </tr>\n",
       "    <tr>\n",
       "      <th>120</th>\n",
       "      <td>41253.545760</td>\n",
       "      <td>3.55533</td>\n",
       "      <td>54.5797</td>\n",
       "      <td>312.195</td>\n",
       "      <td>53.5884</td>\n",
       "      <td>43.5264</td>\n",
       "      <td>35.9425</td>\n",
       "      <td>0</td>\n",
       "      <td>0</td>\n",
       "      <td>0</td>\n",
       "      <td>0.020972</td>\n",
       "      <td>35.967047</td>\n",
       "      <td>43.537567</td>\n",
       "    </tr>\n",
       "  </tbody>\n",
       "</table>\n",
       "</div>"
      ],
      "text/plain": [
       "              UTC       RA      DEC       AZ       EL      YY1      XX1  CAL  \\\n",
       "116  41253.461874  3.55532  54.5797  312.195  53.5884  43.5668  35.9613    0   \n",
       "117  41253.482845  3.55533  54.5797  312.195  53.5884  43.5558  35.9740    0   \n",
       "118  41253.503817  3.55533  54.5797  312.195  53.5884  43.5474  35.9066    0   \n",
       "119  41253.524788  3.55533  54.5797  312.195  53.5884  43.5604  35.9162    0   \n",
       "120  41253.545760  3.55533  54.5797  312.195  53.5884  43.5264  35.9425    0   \n",
       "\n",
       "     Sweep1  Sweep2  TimeDiff     XXmean     YYmean  \n",
       "116       0       0  0.020972  35.984153  43.545127  \n",
       "117       0       0  0.020971  35.987153  43.544880  \n",
       "118       0       0  0.020972  35.978453  43.542080  \n",
       "119       0       0  0.020971  35.970693  43.541600  \n",
       "120       0       0  0.020972  35.967047  43.537567  "
      ]
     },
     "execution_count": 60,
     "metadata": {},
     "output_type": "execute_result"
    }
   ],
   "source": [
    "df.head()"
   ]
  },
  {
   "cell_type": "code",
   "execution_count": 63,
   "id": "f1ee2a49",
   "metadata": {},
   "outputs": [
    {
     "data": {
      "text/plain": [
       "[<matplotlib.lines.Line2D at 0x7fd2e960dd60>]"
      ]
     },
     "execution_count": 63,
     "metadata": {},
     "output_type": "execute_result"
    },
    {
     "data": {
      "image/png": "[encoded data removed]",
      "text/plain": [
       "<Figure size 432x288 with 1 Axes>"
      ]
     },
     "metadata": {
      "needs_background": "light"
     },
     "output_type": "display_data"
    }
   ],
   "source": [
    "plt.plot(df.UTC,df.YY1/df.YYmean-1)\n",
    "plt.plot(df.UTC,df.XX1/df.XXmean-1)\n"
   ]
  },
  {
   "cell_type": "code",
   "execution_count": 72,
   "id": "b9659e27",
   "metadata": {},
   "outputs": [],
   "source": [
    "def read_20m_data(filename, time_diff = 0.05, rolling = 15):\n",
    "    # filename : string : string with the full filename of data source\n",
    "    # time_diff: float : integration time ABOVE which we will exclude data\n",
    "    # rolling: int : number of data points to use for the rolling mean\n",
    "    \n",
    "    \n",
    "    df = pd.read_table(filename, \n",
    "                   comment = '#', delim_whitespace=True,\n",
    "                  names = ['UTC', 'RA', 'DEC', 'AZ', 'EL', 'YY1', 'XX1', 'CAL', 'Sweep1', 'Sweep2'])\n",
    "    \n",
    "    \n",
    "    # remove rows that have CAL == 1 or -1\n",
    "    df.drop(df[df['CAL'] == -1].index, inplace = True)\n",
    "    df.drop(df[df['CAL'] == 1].index, inplace = True)\n",
    "    \n",
    "    #20 m takes some time to start collecting data on fastest integration time\n",
    "    #Remove all data that is collected more than 3ms apart\n",
    "\n",
    "    # calculate the integration time for each row\n",
    "    df['TimeDiff'] = df.diff(periods=1, axis=0).UTC\n",
    "\n",
    "    # drop rows that have TimeDiff > 0.05 or a NaN\n",
    "    df.drop(df[df['TimeDiff'] > time_diff].index, inplace = True)\n",
    "    df.dropna(inplace = True)\n",
    "    \n",
    "    # Perform a rolling mean to get a baseline to subtract off\n",
    "\n",
    "    df['XXmean'] = df.XX1.rolling(rolling).mean()\n",
    "    df['YYmean'] = df.YY1.rolling(rolling).mean()\n",
    "    \n",
    "    # drop Nans from rolling average\n",
    "    df.dropna(inplace = True)\n",
    "    \n",
    "    # Divide the data by the rolling average and subtract 1\n",
    "    df['XXnormalized'] = df.XX1/df.XXmean-1\n",
    "    df['YYnormalized'] = df.YY1/df.YYmean-1\n",
    "    \n",
    "    return(df)"
   ]
  },
  {
   "cell_type": "code",
   "execution_count": 76,
   "id": "8be42e9d",
   "metadata": {},
   "outputs": [
    {
     "data": {
      "text/plain": [
       "[<matplotlib.lines.Line2D at 0x7fd2d97aef70>]"
      ]
     },
     "execution_count": 76,
     "metadata": {},
     "output_type": "execute_result"
    },
    {
     "data": {
      "image/png": "[encoded data removed]",
      "text/plain": [
       "<Figure size 432x288 with 1 Axes>"
      ]
     },
     "metadata": {
      "needs_background": "light"
     },
     "output_type": "display_data"
    }
   ],
   "source": [
    "#newdf = read_20m_data('Skynet_59488_psr_b0329_54_62250_11093.A.cal.txt')\n",
    "\n",
    "newdf = read_20m_data('Skynet_59488_psr_b0833_45_62254_11098.A.cal.txt',\n",
    "                     time_diff = 0.06,\n",
    "                     rolling = 15)\n",
    "\n",
    "\n",
    "plt.plot(newdf.UTC,newdf.XXnormalized)"
   ]
  },
  {
   "cell_type": "code",
   "execution_count": null,
   "id": "a4b4822e",
   "metadata": {},
   "outputs": [],
   "source": []
  }
 ],
 "metadata": {
  "kernelspec": {
   "display_name": "Python 3",
   "language": "python",
   "name": "python3"
  },
  "language_info": {
   "codemirror_mode": {
    "name": "ipython",
    "version": 3
   },
   "file_extension": ".py",
   "mimetype": "text/x-python",
   "name": "python",
   "nbconvert_exporter": "python",
   "pygments_lexer": "ipython3",
   "version": "3.8.8"
  }
 },
 "nbformat": 4,
 "nbformat_minor": 5
}
